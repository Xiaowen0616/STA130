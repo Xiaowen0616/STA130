{
 "cells": [
  {
   "cell_type": "markdown",
   "id": "a989f502",
   "metadata": {},
   "source": [
    "1. The \"first pre-lecture video\" (above) describes hypothesis testing as addressing \"an idea that can be tested\", and the end of the video then discusses what our actual intended purpose in setting up a null hypothesis is. What is the key factor that makes the difference between ideas that can, and cannot be examined and tested statistically? What would you describe is the key \"criteria\" defining what a good null hypothesis is? And what is the difference between a null hypothesis and an alternative hypothesis in the context of hypothesis testing? Answer these questions with concise explanations in your own words.\n",
    "\n",
    "A hypothesis requires datas (numbers) to compare and gives specific statements, opinions would not be good. The key \"criteria\" for a good null hypothesis is \"to prove it true\". The difference between a null hypothesis and an alternative hypothesis is that a null hypothesis is the one been predicted and the one wants to prove right. Alternative hypothesis is any results execpt the null hypothesis. "
   ]
  },
  {
   "cell_type": "markdown",
   "id": "86865bb2",
   "metadata": {},
   "source": [
    "2. Towards the end of the \"first pre-lecture\" video (above) it is stated that, \"It is important to note that outcomes of tests refer to the population parameter, rather than the sample statistic! As such, the result that we get is for the population.\" In terms of the distinctions between the concepts of xi's, x¯, μ, and μ0, how would you describe what the sentence above means? Explain this concisely in your own words for a \"non-statsitical\" audience, defining the technical statistical terminology you use in your answer.\n",
    "\n",
    "xi's represents individual data points, basically, each single data collected. \n",
    "x¯ represents the average of the individual data points above. \n",
    "μ is the true mean of the population.\n",
    "μ0 is the true mean that we use as the main data in the comparsion in hypothesis."
   ]
  },
  {
   "cell_type": "markdown",
   "id": "b308e7f6",
   "metadata": {},
   "source": [
    "3. The second \"Pre-lecture\" video (above) explains that we \"imagine a world where the null hypothesis is true\" when calculating a p-value? Explain why this is in your own words in a way that makes the most sense to you.\n",
    "\n",
    "In my opinion, this quote basically means that imagine what could happen so that we can get the results we want, although, it may be ridiculous. "
   ]
  },
  {
   "cell_type": "markdown",
   "id": "b49ab814",
   "metadata": {},
   "source": [
    "4. The second \"Pre-lecture\" video (above) suggests that a smaller p-value makes the null hypothesis look more ridiculous. Explain why this is in your own words in a way that makes the most sense to you, clarifying the meaning of any technical statistical terminology you use in your answer.\n",
    "\n",
    "I believed that the p-value is the the possibilities of my null hypothesis and the lower the p-value, the lower the chances of my possibilitis happen, in another word, being rediculous. "
   ]
  },
  {
   "cell_type": "markdown",
   "id": "0a916492",
   "metadata": {},
   "source": [
    "5. Güntürkün (2003) recorded how kissing couples tilt their heads. 80 out of 124 couples, or 64.5% tilted their heads to the right. Simulate a p-value using a \"50/50 coin-flipping\" model for the assumption of the null hypothesis H0 that the population of humans don't have left or right head tilt tendencies when kissing, and use the table below to determine the level of evidence we have against H0.\n",
    "\n",
    "By calcualting the p-value we got the number of p < 0.01, therefore, very strong evidence against the null hypothesis. There is a significant tendency for couples to tilt their heads to the right when kissing."
   ]
  },
  {
   "cell_type": "markdown",
   "id": "825acc73",
   "metadata": {},
   "source": [
    "6. Can a smaller p-value definitively prove that the null hypothesis is false? Is it possible to definitively prove that Fido (from the \"second pre-lecture video\") is innocent using a p-value? Is it possible to difinitively prove that Fido is guilty using a p-value? How low or high does a p-value have to be to definitely prove one or the other? Explain this concisely in your own words.\n",
    "\n",
    "Neither a high p-value nor a lower p-value can prove Fido is either inncoent or not. p-value only gives that chances of a thing to be happen (in this case, Fido innocent). It is only used to against null hypothesis, in another word, zero chance. "
   ]
  },
  {
   "cell_type": "markdown",
   "id": "48e50241",
   "metadata": {},
   "source": [
    "7. In the second half of the \"first pre-lecture video\" the concept of a \"one sided\" (or \"one tailed\") test is introduced in contrast to a \"two sided\" (or \"two tailed\") test. Work with a ChatBot to adjust the code from \"Demo II of the Week 5 TUT\" (which revisits the \"Vaccine Data Analysis Assignment\" from Week 04 HW \"Question 8\") in order to compute a p-value for a \"one sided\" (or \"one tailed\") hypothesis test rather than the \"two sided\" (or \"two tailed\") version it provides. Describe (perhaps with the help of your ChatBot) what changed in the code; how this changes the interpretation of the hypothesis test; and whether or not we should indeed expect the p-value to be smaller in the \"one tailed\" versus \"two tailed\" analysis. "
   ]
  },
  {
   "cell_type": "code",
   "execution_count": 4,
   "id": "cec8532a",
   "metadata": {},
   "outputs": [
    {
     "data": {
      "text/plain": [
       "0.01460526190774628"
      ]
     },
     "execution_count": 4,
     "metadata": {},
     "output_type": "execute_result"
    }
   ],
   "source": [
    "import pandas as pd\n",
    "from scipy import stats\n",
    "\n",
    "# Simulating the data loading step using the provided CSV data\n",
    "data = \"\"\"\n",
    "PatientID,Age,Gender,InitialHealthScore,FinalHealthScore\n",
    "1,45,M,84,86\n",
    "2,34,F,78,86\n",
    "3,29,M,83,80\n",
    "4,52,F,81,86\n",
    "5,37,M,81,84\n",
    "6,41,F,80,86\n",
    "7,33,M,79,86\n",
    "8,48,F,85,82\n",
    "9,26,M,76,83\n",
    "10,39,F,83,84\n",
    "\"\"\"\n",
    "\n",
    "# Convert the string data to a pandas DataFrame\n",
    "from io import StringIO\n",
    "df = pd.read_csv(StringIO(data))\n",
    "\n",
    "# Calculate the difference between FinalHealthScore and InitialHealthScore\n",
    "df['ScoreDifference'] = df['FinalHealthScore'] - df['InitialHealthScore']\n",
    "\n",
    "# Perform a one-sample t-test\n",
    "test_result = stats.ttest_1samp(df['ScoreDifference'], 0)\n",
    "\n",
    "# The p-value for the one-sided test\n",
    "one_sided_p_value = test_result.pvalue / 2 if test_result.statistic > 0 else 1 - test_result.pvalue / 2\n",
    "\n",
    "one_sided_p_value\n"
   ]
  },
  {
   "cell_type": "markdown",
   "id": "845407d9",
   "metadata": {},
   "source": [
    "The two-tailed version checks the differences between the initial health score and the final health socre but the one-tailed version only checks the health score increase or not. The p-value here reflects the probability of observing such an increase under the null hypothesis. The p-value for the one-tailed test is appropriate and results in a smaller p-value compared to the two-tailed test."
   ]
  },
  {
   "cell_type": "markdown",
   "id": "653413b6",
   "metadata": {},
   "source": [
    "Summary:\n",
    "Discussion on Kissing Couples Head Tilt Study:\n",
    "\n",
    "You asked about calculating a p-value based on a study where 80 out of 124 couples tilted their heads to the right while kissing. I explained how to simulate a p-value using a \"50/50 coin-flipping\" model and a binomial distribution, assuming no inherent head-tilting preference. We calculated both an approximate and exact p-value, determining strong evidence against the null hypothesis (indicating a tendency for right tilt).\n",
    "CSV Data Introduction:\n",
    "\n",
    "You introduced a CSV dataset containing information about patients, including ID, age, gender, initial health score, and final health score. You mentioned that this dataset would be used later.\n",
    "One-Sided Hypothesis Test Using the Patient Dataset:\n",
    "\n",
    "Using the patient dataset you provided, I demonstrated how to adjust from a two-sided hypothesis test to a one-sided test. We calculated the p-value for the hypothesis that the mean final health score is significantly greater than the mean initial health score. I adjusted the computation to reflect a one-sided test by calculating the difference in scores and applying a one-sample t-test.\n",
    "Explanation of Code Adjustments and Interpretations:\n",
    "\n",
    "I described the adjustments made in the Python code for transitioning from a two-tailed to a one-tailed hypothesis test. This included explaining how the one-tailed p-value was computed and why it's typically smaller than the two-tailed p-value when the test statistic supports the hypothesis direction (in this case, an improvement in health scores).\n",
    "Summary Request:\n",
    "\n",
    "You requested a summary of our discussions for submission as part of a homework assignment, highlighting the key aspects of each interaction and the analytical processes involved.\n",
    "These exchanges illustrate a progression from understanding a concept through a real-world example (head tilting in kissing), introducing a dataset for analysis, applying statistical tests to derive insights, and finally, adjusting statistical interpretations based on the hypothesis test type (one-tailed vs. two-tailed).\n",
    "\n",
    "Link: https://chatgpt.com/share/670f2e92-925c-8007-b5fe-dd5ebd530728"
   ]
  },
  {
   "cell_type": "markdown",
   "id": "db483818",
   "metadata": {},
   "source": [
    "8."
   ]
  },
  {
   "cell_type": "code",
   "execution_count": 5,
   "id": "b44621a8",
   "metadata": {},
   "outputs": [
    {
     "data": {
      "text/plain": [
       "(2.0124611797498115, 0.044171344908442434)"
      ]
     },
     "execution_count": 5,
     "metadata": {},
     "output_type": "execute_result"
    }
   ],
   "source": [
    "import numpy as np\n",
    "from scipy.stats import norm\n",
    "\n",
    "# Observed data\n",
    "n = 80\n",
    "x = 49\n",
    "p_hat = x / n  # Sample proportion\n",
    "\n",
    "# Null hypothesis\n",
    "p_0 = 0.5\n",
    "\n",
    "# Standard error\n",
    "SE = np.sqrt(p_0 * (1 - p_0) / n)\n",
    "\n",
    "# Z-score calculation\n",
    "z = (p_hat - p_0) / SE\n",
    "\n",
    "# P-value calculation\n",
    "p_value = 2 * (1 - norm.cdf(abs(z)))\n",
    "\n",
    "z, p_value\n"
   ]
  },
  {
   "cell_type": "markdown",
   "id": "3a76b1f9",
   "metadata": {},
   "source": [
    "Based on the p-value, we will conclude whether to reject or not reject the null hypothesis. A very small p-value would lead to rejecting the null hypothesis, suggesting the students' responses are not due to chance alone."
   ]
  },
  {
   "cell_type": "markdown",
   "id": "0720e157",
   "metadata": {},
   "source": [
    "Summary:\n",
    "Statistical Lore and Experiment Setup\n",
    "\n",
    "You introduced a famous statistical experiment by Ronald Fisher and Dr. Muriel Bristol from the 1920s about discerning whether milk or tea was poured first in a cup of tea. Fisher designed a hypothesis test to determine whether Dr. Bristol could genuinely distinguish the difference or if her correct guesses were due to chance.\n",
    "Experiment Adaptation with STA130 Students\n",
    "\n",
    "You explained an adapted version of the experiment involving 80 students from a STA130 course, where 49 students correctly identified whether the milk or tea was poured first. You sought to analyze whether these students could actually discern the order of pouring or were merely guessing.\n",
    "Quantitative Analysis Request\n",
    "\n",
    "You requested a detailed statistical analysis of the experiment, focusing on hypothesis testing to determine whether the observed proportion of correct guesses was significantly different from what would be expected by random chance.\n",
    "Statistical Analysis Conducted\n",
    "\n",
    "I calculated the z-score and the p-value for the proportion of students who guessed correctly, under the null hypothesis that the true proportion of correct guesses was 0.5 (indicative of random guessing). The analysis involved:\n",
    "Calculating the sample proportion.\n",
    "Computing the standard error assuming the null hypothesis is true.\n",
    "Determining the z-score and subsequently, the p-value.\n",
    "Results and Interpretation\n",
    "\n",
    "The z-score was found to be 2.012, and the p-value was 0.044, suggesting that the proportion of students who identified the correct order of pouring (milk or tea) was statistically significantly different from 0.5. Thus, we concluded that students could discern the order of pouring better than random guessing.\n",
    "Conclusion\n",
    "\n",
    "Based on the p-value being less than 0.05, the null hypothesis was rejected. This indicated significant evidence that the students’ ability to distinguish the pouring order was not due to chance, affirming the effectiveness of the experiment in demonstrating sensory discrimination among the students.\n",
    "These exchanges should provide a comprehensive record for your homework assignment, showcasing the application of statistical hypothesis testing in a real-world inspired scenario.\n",
    "\n",
    "Link:https://chatgpt.com/share/670f308c-60a4-8007-bb87-62b18d5093bb"
   ]
  },
  {
   "cell_type": "markdown",
   "id": "b9e557ae",
   "metadata": {},
   "source": [
    "9. Somewhat"
   ]
  }
 ],
 "metadata": {
  "kernelspec": {
   "display_name": "Python 3 (ipykernel)",
   "language": "python",
   "name": "python3"
  },
  "language_info": {
   "codemirror_mode": {
    "name": "ipython",
    "version": 3
   },
   "file_extension": ".py",
   "mimetype": "text/x-python",
   "name": "python",
   "nbconvert_exporter": "python",
   "pygments_lexer": "ipython3",
   "version": "3.11.6"
  }
 },
 "nbformat": 4,
 "nbformat_minor": 5
}
