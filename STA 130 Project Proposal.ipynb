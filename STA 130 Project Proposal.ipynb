{
 "cells": [
  {
   "cell_type": "markdown",
   "id": "66928ea1",
   "metadata": {},
   "source": [
    "Research Question #1:\n",
    "\n",
    "Are there significant differences between men and women in their preferences on time for social interaction across various groups of people, such as friends, family, colleagues, and neighbors?\n",
    "\n",
    "Variables:\n",
    "\n",
    "Based on the research question, the key variables required are: gender of the surveyeds and their preference time with different groups (friends, fanmily, colleagues, and neighbors).\n",
    "Genders are the comparison groups that would be compared and preference time with different groups would show the differences between genders. Together, these variables would explore how gender may influence social preferences. \n",
    "The data would be shown in bar graph which the preference groups are on the x-axis and the average time spend are on the y-axis. Each gender would have different colors and showed their average time spending on different groups. \n",
    "Bar graph is the most appropriate type of visualization because it could easily showed the differences of the average time spending with differenet groups based on the genders.\n",
    "\n",
    "Analysis:\n",
    "\n",
    "Null hypothesis test would be used to answer the question. First, stated that Null Hypothesis (H0) is \"There are no significant differences in social interaction times between women and men.\" and the Alternative Hypothesis (H1) is :\"There are significant differences in social interaction times between women and men.\". \n",
    "Then, calculated the average time spend with each group for both women and men and compared each social groups. Calculated and determined the p-values for each social group for both women and men. If p < 0.05 , reject the null hypothesis, in another word, there is a significant difference. \n",
    "Last, compared the differences in time used between women and men, and the p-value for that. The differences and weither it is significant or not would be shown. \n",
    "\n",
    "Hypothesis:\n",
    "\n",
    "\"There are no significant differences in social interactiom times beween women and men\" as if non of the p-values showed p < 0.05. This hypothesis answered the research question that \"Are there significant differences between men and women in their preferences on time for social interaction across various groups of people, such as friends, family, colleagues, and neighbors?\" and the answer is NO. \n",
    "If there is one or more p-values that is smaller than 0.05, therefore, there is a significant difference between women and men in their preferences on time for social interaction with friends/family/colleagues/neighbors/all. It answered a part of the question by YES or it is a fully YES. "
   ]
  },
  {
   "cell_type": "markdown",
   "id": "6b87327c",
   "metadata": {},
   "source": [
    "Research Question #2:\n",
    "\n",
    "What is the average age of participants taking the survey, and how is this age distributed across different age groups?\n",
    "\n",
    "Variables:\n",
    "\n",
    "Based on the research question, the key variables required are: age and age group. \n",
    "Age would be the age number of the surveyeds and continuous. Age group would categorized by children (0-12 years), teenagers (13-19 years) young adults (20-35 years), middle-aged adults (36-55 years) seniors (56+ years).\n",
    "The data would be shown in histogram and the x-axis is the age range and the y-axis is the frequency of participants in each bin. \n",
    "\n",
    "Analysis:\n",
    "\n",
    "Bootstrapping would be used to provide confidence interval and a robust estimate of the average age. First, organized the data for age into categories.Then, ramdonly sample from the dataset with replacement to creates bootstrap sample. Repeat this process a large number of times. Calculate the statistic intervals for each Bootstap sample. \n",
    "Last, in order to find a 95% confidence interval, take the 2.5th percentile and the 97.5th percentile of your bootstrap statistics. \n",
    "\n",
    "Hypothesis:\n",
    "\n",
    "The average age of partcipants taking the survey is, for example, 50 years old and how the age distributed across different age groups could been seen by the histogram graph. This answered the question and the number of the average age would be replace after the real processes were done. "
   ]
  },
  {
   "cell_type": "markdown",
   "id": "a1c00e69",
   "metadata": {},
   "source": [
    "Research Question #3:\n",
    "\n",
    "What age group in the population is most likely to experience feelings of being misunderstood?\n",
    "\n",
    "Variables:\n",
    "\n",
    "Based on the research question, the key variables required are: age and feelings of being misunderstood. \n",
    "Age would categorized by children (0-12 years), teenagers (13-19 years) young adults (20-35 years), middle-aged adults (36-55 years) seniors (56+ years). Feelings of being misunderstood would be a YES or NO question. \n",
    "The data would be shown in bar graph and each age category would have its own set of bars for different reponses. The x-axis would be YES, NO, and NO ANSWER. The y-axis would be the numbers of yes, no, and no answers. \n",
    "\n",
    "Analysis:\n",
    "\n",
    "Linear regression would discovered the relation between the variables. First, make a table with two columns. One with categorized age, and the other with \"feeling misunderstood\" = 1 and \"not feeling misunderstood\" = 0. Code them. Overall, the coefficients would showed how age effectted feelings of misunderstood and p-value showed significant or not. \n",
    "\n",
    "Hypothesis:\n",
    "\n",
    "By looking at the graph, the age group having the highest YES would be the age group most likely to experience feelings of being misundertood.\n",
    "This could be \"Teenagers is the age group in the population that is most likely to experience feelings of being misundertsood.\" if the bar of teenagers for YES has the highest number. "
   ]
  }
 ],
 "metadata": {
  "kernelspec": {
   "display_name": "Python 3 (ipykernel)",
   "language": "python",
   "name": "python3"
  },
  "language_info": {
   "codemirror_mode": {
    "name": "ipython",
    "version": 3
   },
   "file_extension": ".py",
   "mimetype": "text/x-python",
   "name": "python",
   "nbconvert_exporter": "python",
   "pygments_lexer": "ipython3",
   "version": "3.11.6"
  }
 },
 "nbformat": 4,
 "nbformat_minor": 5
}
